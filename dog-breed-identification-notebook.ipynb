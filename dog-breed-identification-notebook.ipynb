{
 "cells": [
  {
   "cell_type": "markdown",
   "source": [
    "# End to end multi-class dog breed classification\n",
    "This notebook builds an end to end multi class image classifier using Tensorflow 2.0 and Tensorflow Hub.\n",
    "\n",
    "## 1.problem\n",
    "Identifying the breed of a dog given an image of a dog. When I am sitting in a cafe and I take a photo of a dog, I want to know what breed of dog it is.\n",
    "\n",
    "## 2.Data\n",
    "The data we are using is from kaggle's dog breed identification competition.\n",
    "https://www.kaggle.com/competitions/dog-breed-identification\n",
    "\n",
    "## 3.Evaluation\n",
    "The evaluation is a file with prediction probabilities for each dog breed of each test image\n",
    "https://www.kaggle.com/competitions/dog-breed-identification/overview/evaluation\n",
    "\n",
    "## 4.Features\n",
    "Some information about the data:\n",
    "* we are dealing with images(unstructured data), so it is probably best we use deep learning/transfer learning\n",
    "* There are 120 breeds of dogs (This means there are 120 different classes).\n",
    "* There are around 10,000+ images in the training set(These images have labels)\n",
    "* There are around 10,000+ images in the test set(These images have no labels), because we will want to predict them.\n",
    "https://www.kaggle.com/competitions/dog-breed-identification/data"
   ],
   "metadata": {
    "collapsed": false
   }
  },
  {
   "cell_type": "markdown",
   "source": [
    "Note: To Unzip the data in colab, use `!unzip \"source path\" -d \"destination path\"`"
   ],
   "metadata": {
    "collapsed": false
   }
  },
  {
   "cell_type": "markdown",
   "source": [
    "### Get the workspace ready"
   ],
   "metadata": {
    "collapsed": false
   }
  },
  {
   "cell_type": "code",
   "execution_count": 4,
   "outputs": [
    {
     "name": "stdout",
     "output_type": "stream",
     "text": [
      "2.6.0\n"
     ]
    }
   ],
   "source": [
    "import tensorflow as tf\n",
    "print(tf.__version__)"
   ],
   "metadata": {
    "collapsed": false
   }
  },
  {
   "cell_type": "code",
   "execution_count": null,
   "outputs": [],
   "source": [],
   "metadata": {
    "collapsed": false
   }
  }
 ],
 "metadata": {
  "kernelspec": {
   "display_name": "Python 3",
   "language": "python",
   "name": "python3"
  },
  "language_info": {
   "codemirror_mode": {
    "name": "ipython",
    "version": 2
   },
   "file_extension": ".py",
   "mimetype": "text/x-python",
   "name": "python",
   "nbconvert_exporter": "python",
   "pygments_lexer": "ipython2",
   "version": "2.7.6"
  }
 },
 "nbformat": 4,
 "nbformat_minor": 0
}
